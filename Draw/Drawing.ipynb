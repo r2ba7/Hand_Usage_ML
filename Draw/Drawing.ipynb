{
 "cells": [
  {
   "cell_type": "code",
   "execution_count": 2,
   "id": "28d842e5",
   "metadata": {},
   "outputs": [],
   "source": [
    "import cv2\n",
    "import numpy as np\n",
    "import pandas as pd\n",
    "import time\n",
    "import autopy\n",
    "import mediapipe as mp\n",
    "import HandDetectionClass as HD"
   ]
  },
  {
   "cell_type": "code",
   "execution_count": 16,
   "id": "445b7152",
   "metadata": {},
   "outputs": [],
   "source": [
    "previous_time = 0\n",
    "current_time = 0\n",
    "cap = cv2.VideoCapture(0)\n",
    "detector = HD.HandDetectionClass(min_det_con=0.65)\n",
    "cap.set(3, 1280)\n",
    "cap.set(4, 720)\n",
    "tipsID = [4, 8, 12, 16, 20]\n",
    "endID = [3, 6, 10, 14, 18]\n",
    "x_prev, y_prev = -1, -1\n",
    "pic_draw = np.zeros((720, 1280, 3), np.uint8)\n",
    "\n",
    "while True:\n",
    "    retval, image = cap.read()\n",
    "    image = cv2.flip(image, 1)\n",
    "    image = detector.findHands(image)\n",
    "    landmarks_list = detector.findPosition(image, draw_indecis=False)\n",
    "    if len(landmarks_list):\n",
    "        x_index, y_index = landmarks_list[tipsID[1]][1], landmarks_list[tipsID[1]][2]\n",
    "        x_middle, y_middle = landmarks_list[tipsID[2]][1], landmarks_list[tipsID[2]][2]\n",
    "        #We will draw when 1 finger is up *index to be precise*, select when 2 fingers are up\n",
    "        fingers = detector.fingers_up()\n",
    "        #print(fingers)\n",
    "        erase_color = (0, 0, 0)\n",
    "        draw_color = (250, 250, 0)\n",
    "        \n",
    "            \n",
    "        #Draw Mode, We can draw with index\n",
    "        if fingers[1] == 1 and fingers[2] == 0:\n",
    "            cv2.circle(image, (x_index, y_index), 15, (150, 100, 0), -1)\n",
    "            if x_prev == -1 and y_prev == -1:\n",
    "                x_prev, y_prev = x_index, y_index\n",
    "            \n",
    "            cv2.line(image, (x_prev, y_prev), (x_index, y_index), draw_color, 10)\n",
    "            cv2.line(pic_draw, (x_prev, y_prev), (x_index, y_index), draw_color, 10)\n",
    "        #Erasing using index and middle finger\n",
    "        \n",
    "        elif fingers[1] == 1 and fingers[2] == 1:\n",
    "            cv2.rectangle(image, (x_index, y_index-15), (x_middle, y_middle-15), (150, 100, 150), -1)\n",
    "            cv2.line(image, (x_prev, y_prev), (x_index, y_index), erase_color, 20)\n",
    "            cv2.line(pic_draw, (x_prev, y_prev), (x_index, y_index), erase_color, 20)\n",
    "        x_prev, y_prev = x_index, y_index\n",
    "    \n",
    "    \n",
    "    imgGray = cv2.cvtColor(pic_draw, cv2.COLOR_BGR2GRAY)\n",
    "    retval2, imginv = cv2.threshold(imgGray, 50, 255, cv2.THRESH_BINARY_INV)\n",
    "    imginv = cv2.cvtColor(imginv, cv2.COLOR_GRAY2BGR)\n",
    "    image = cv2.bitwise_and(image, imginv)\n",
    "    image = cv2.bitwise_or(image, pic_draw)\n",
    "    \n",
    "    \n",
    "    current_time = time.time()\n",
    "    fps = 1/(current_time-previous_time)\n",
    "    previous_time = current_time\n",
    "    cv2.putText(image, str(int(fps)), (5,30), cv2.FONT_HERSHEY_SIMPLEX, 1, (0,0,255), 2)        \n",
    "    #image = cv2.addWeighted(image, 1, pic_draw, 1, 0)\n",
    "    cv2.imshow('Live Drawing', image)\n",
    "    if cv2.waitKey(5) & 0xFF == 27:\n",
    "        break\n",
    "    \n",
    "cap.release()\n",
    "cv2.destroyAllWindows()"
   ]
  },
  {
   "cell_type": "code",
   "execution_count": null,
   "id": "8cd3b897",
   "metadata": {},
   "outputs": [],
   "source": []
  }
 ],
 "metadata": {
  "kernelspec": {
   "display_name": "Python 3",
   "language": "python",
   "name": "python3"
  },
  "language_info": {
   "codemirror_mode": {
    "name": "ipython",
    "version": 3
   },
   "file_extension": ".py",
   "mimetype": "text/x-python",
   "name": "python",
   "nbconvert_exporter": "python",
   "pygments_lexer": "ipython3",
   "version": "3.8.8"
  }
 },
 "nbformat": 4,
 "nbformat_minor": 5
}
