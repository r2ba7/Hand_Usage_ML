{
 "cells": [
  {
   "cell_type": "code",
   "execution_count": 6,
   "id": "256c1b07",
   "metadata": {},
   "outputs": [],
   "source": [
    "import cv2\n",
    "import numpy as np\n",
    "import pandas as pd\n",
    "import time\n",
    "import autopy\n",
    "import mediapipe as mp\n",
    "import HandDetectionClass as HD"
   ]
  },
  {
   "cell_type": "code",
   "execution_count": 27,
   "id": "37b231d3",
   "metadata": {},
   "outputs": [],
   "source": [
    "previous_time = 0\n",
    "current_time = 0\n",
    "cap = cv2.VideoCapture(0)\n",
    "width, height = cap.get(3), cap.get(4)\n",
    "detector = HD.HandDetectionClass(min_det_con=0.6)\n",
    "#For the thumb we will compare using the X\n",
    "tipsID = [4, 8, 12, 16, 20]\n",
    "endID = [3, 6, 10, 14, 18]\n",
    "while True:\n",
    "    retval, image = cap.read()\n",
    "    image = detector.findHands(image)\n",
    "    landmarks_list = detector.findPosition(image, 0, False)\n",
    "    #Every finger's end has an index, 4, 8, 12, 16, 20\n",
    "    #We will compare lengths using y-axis for all except thumb\n",
    "    #Using right hand\n",
    "    fingers=[]\n",
    "    if len(landmarks_list) != 0:\n",
    "        if landmarks_list[tipsID[0]][1] > landmarks_list[endID[0]][1]:\n",
    "            fingers.append(1)\n",
    "        else:\n",
    "            fingers.append(0)\n",
    "        for ID in range(1,5):\n",
    "            if landmarks_list[tipsID[ID]][2] < landmarks_list[endID[ID]][2]:\n",
    "                fingers.append(1)\n",
    "            else:\n",
    "                fingers.append(0)\n",
    "        #print(fingers)\n",
    "        raises = sum(fingers)\n",
    "        #print(raises)\n",
    "        cv2.putText(image, str(raises), (620,30), cv2.FONT_HERSHEY_SIMPLEX, 1, (255,0,0), 2)        \n",
    "\n",
    "    current_time = time.time()\n",
    "    fps = 1/(current_time-previous_time)\n",
    "    previous_time = current_time\n",
    "    cv2.putText(image, str(int(fps)), (5,30), cv2.FONT_HERSHEY_SIMPLEX, 1, (0,0,255), 2)        \n",
    "    cv2.imshow('Hands', image)\n",
    "    if cv2.waitKey(5) & 0xFF == 27:\n",
    "        break\n",
    "    \n",
    "cap.release()\n",
    "cv2.destroyAllWindows()"
   ]
  },
  {
   "cell_type": "code",
   "execution_count": null,
   "id": "51498dad",
   "metadata": {},
   "outputs": [],
   "source": []
  }
 ],
 "metadata": {
  "kernelspec": {
   "display_name": "Python 3",
   "language": "python",
   "name": "python3"
  },
  "language_info": {
   "codemirror_mode": {
    "name": "ipython",
    "version": 3
   },
   "file_extension": ".py",
   "mimetype": "text/x-python",
   "name": "python",
   "nbconvert_exporter": "python",
   "pygments_lexer": "ipython3",
   "version": "3.8.8"
  }
 },
 "nbformat": 4,
 "nbformat_minor": 5
}
